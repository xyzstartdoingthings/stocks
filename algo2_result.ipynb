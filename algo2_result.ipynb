{
 "cells": [
  {
   "cell_type": "code",
   "execution_count": 1,
   "metadata": {},
   "outputs": [],
   "source": [
    "#0:144 result\n",
    "top_a_tickers = [[({'atr_len': 11, 'macd_fastLen': 13, 'macd_slowLen': 32, 'macd_signalSmooth': 8, 'macd_peakLen': 3, 'gain_ratio': 1, 'loss_ratio': 1, 'peak2_len': 20, 'peak3_len': 50, 'ticker': 'AMEH'}, 5.21905521109192, (10.03249817728588, 0.0459183673469387, 0.8571428571428571)), \n",
    "  ({'atr_len': 11, 'macd_fastLen': 13, 'macd_slowLen': 32, 'macd_signalSmooth': 8, 'macd_peakLen': 3, 'gain_ratio': 1, 'loss_ratio': 1, 'peak2_len': 30, 'peak3_len': 50, 'ticker': 'AMEH'}, 5.21905521109192, (10.03249817728588, 0.0459183673469387, 0.8571428571428571)), \n",
    "  ({'atr_len': 12, 'macd_fastLen': 13, 'macd_slowLen': 32, 'macd_signalSmooth': 8, 'macd_peakLen': 3, 'gain_ratio': 1, 'loss_ratio': 1, 'peak2_len': 20, 'peak3_len': 50, 'ticker': 'AMEH'}, 5.21905521109192, (10.03249817728588, 0.0459183673469387, 0.8571428571428571))], \n",
    " [({'atr_len': 11, 'macd_fastLen': 11, 'macd_slowLen': 34, 'macd_signalSmooth': 9, 'macd_peakLen': 3, 'gain_ratio': 1, 'loss_ratio': 1, 'peak2_len': 20, 'peak3_len': 50, 'ticker': 'AAL'}, 5.082750595805698, (9.819813001297037, 0.05862361937128288, 0.75)), \n",
    "  ({'atr_len': 11, 'macd_fastLen': 11, 'macd_slowLen': 34, 'macd_signalSmooth': 9, 'macd_peakLen': 3, 'gain_ratio': 1, 'loss_ratio': 1, 'peak2_len': 30, 'peak3_len': 50, 'ticker': 'AAL'}, 5.082750595805698, (9.819813001297037, 0.05862361937128288, 0.75)), \n",
    "  ({'atr_len': 12, 'macd_fastLen': 11, 'macd_slowLen': 34, 'macd_signalSmooth': 9, 'macd_peakLen': 3, 'gain_ratio': 1, 'loss_ratio': 1, 'peak2_len': 20, 'peak3_len': 50, 'ticker': 'AAL'}, 5.082750595805698, (9.819813001297037, 0.05862361937128288, 0.75))], \n",
    " [({'atr_len': 11, 'macd_fastLen': 13, 'macd_slowLen': 34, 'macd_signalSmooth': 8, 'macd_peakLen': 3, 'gain_ratio': 1, 'loss_ratio': 2, 'peak2_len': 20, 'peak3_len': 40, 'ticker': 'AEO'}, 2.7078651246912826, (5.090420651859345, 0.14938080495356035, 0.8)), \n",
    "  ({'atr_len': 11, 'macd_fastLen': 13, 'macd_slowLen': 34, 'macd_signalSmooth': 8, 'macd_peakLen': 3, 'gain_ratio': 1, 'loss_ratio': 2, 'peak2_len': 30, 'peak3_len': 40, 'ticker': 'AEO'}, 2.7078651246912826, (5.090420651859345, 0.14938080495356035, 0.8)), \n",
    "  ({'atr_len': 11, 'macd_fastLen': 12, 'macd_slowLen': 34, 'macd_signalSmooth': 9, 'macd_peakLen': 3, 'gain_ratio': 1, 'loss_ratio': 2, 'peak2_len': 30, 'peak3_len': 40, 'ticker': 'AEO'}, 2.658825551339098, (4.978548401706701, 0.14938080495356035, 0.8275862068965517))], \n",
    " [({'atr_len': 11, 'macd_fastLen': 13, 'macd_slowLen': 34, 'macd_signalSmooth': 8, 'macd_peakLen': 3, 'gain_ratio': 1, 'loss_ratio': 1, 'peak2_len': 20, 'peak3_len': 40, 'ticker': 'ASGN'}, 2.705162327916059, (5.10910285132084, 0.11184210526315785, 0.7142857142857143)), \n",
    "  ({'atr_len': 11, 'macd_fastLen': 13, 'macd_slowLen': 34, 'macd_signalSmooth': 8, 'macd_peakLen': 3, 'gain_ratio': 1, 'loss_ratio': 1, 'peak2_len': 30, 'peak3_len': 40, 'ticker': 'ASGN'}, 2.705162327916059, (5.10910285132084, 0.11184210526315785, 0.7142857142857143)), \n",
    "  ({'atr_len': 12, 'macd_fastLen': 13, 'macd_slowLen': 34, 'macd_signalSmooth': 8, 'macd_peakLen': 3, 'gain_ratio': 1, 'loss_ratio': 1, 'peak2_len': 20, 'peak3_len': 40, 'ticker': 'ASGN'}, 2.705162327916059, (5.10910285132084, 0.11184210526315785, 0.7142857142857143))], \n",
    " [({'atr_len': 12, 'macd_fastLen': 11, 'macd_slowLen': 34, 'macd_signalSmooth': 7, 'macd_peakLen': 3, 'gain_ratio': 1, 'loss_ratio': 2, 'peak2_len': 20, 'peak3_len': 50, 'ticker': 'AGYS'}, 2.522845711374363, (4.616115693778724, 0.09918187539332908, 0.9583333333333335)), \n",
    "  ({'atr_len': 12, 'macd_fastLen': 11, 'macd_slowLen': 34, 'macd_signalSmooth': 7, 'macd_peakLen': 3, 'gain_ratio': 1, 'loss_ratio': 2, 'peak2_len': 30, 'peak3_len': 50, 'ticker': 'AGYS'}, 2.522845711374363, (4.616115693778724, 0.09918187539332908, 0.9583333333333335)), \n",
    "  ({'atr_len': 13, 'macd_fastLen': 11, 'macd_slowLen': 34, 'macd_signalSmooth': 7, 'macd_peakLen': 3, 'gain_ratio': 1, 'loss_ratio': 2, 'peak2_len': 20, 'peak3_len': 50, 'ticker': 'AGYS'}, 2.5206519161814804, (4.6117281033929585, 0.09918187539332908, 0.9583333333333335))], \n",
    " [({'atr_len': 11, 'macd_fastLen': 12, 'macd_slowLen': 32, 'macd_signalSmooth': 7, 'macd_peakLen': 3, 'gain_ratio': 1, 'loss_ratio': 2, 'peak2_len': 20, 'peak3_len': 50, 'ticker': 'APT'}, 2.2584861007499013, (4.184330251797962, 0.12781954887218056, 0.7931034482758621)), \n",
    "  ({'atr_len': 11, 'macd_fastLen': 12, 'macd_slowLen': 32, 'macd_signalSmooth': 7, 'macd_peakLen': 3, 'gain_ratio': 1, 'loss_ratio': 2, 'peak2_len': 30, 'peak3_len': 50, 'ticker': 'APT'}, 2.2584861007499013, (4.184330251797962, 0.12781954887218056, 0.7931034482758621)), \n",
    "  ({'atr_len': 12, 'macd_fastLen': 12, 'macd_slowLen': 32, 'macd_signalSmooth': 7, 'macd_peakLen': 3, 'gain_ratio': 1, 'loss_ratio': 2, 'peak2_len': 20, 'peak3_len': 50, 'ticker': 'APT'}, 2.2319884116755997, (4.13885367064184, 0.142857142857143, 0.7931034482758621))], \n",
    " [({'atr_len': 11, 'macd_fastLen': 11, 'macd_slowLen': 32, 'macd_signalSmooth': 9, 'macd_peakLen': 3, 'gain_ratio': 1, 'loss_ratio': 2, 'peak2_len': 20, 'peak3_len': 50, 'ticker': 'APEI'}, 2.0366076166126192, (3.7104034891264814, 0.11648177496038041, 0.8421052631578947)), \n",
    "  ({'atr_len': 11, 'macd_fastLen': 11, 'macd_slowLen': 32, 'macd_signalSmooth': 9, 'macd_peakLen': 3, 'gain_ratio': 1, 'loss_ratio': 2, 'peak2_len': 30, 'peak3_len': 50, 'ticker': 'APEI'}, 2.0366076166126192, (3.7104034891264814, 0.11648177496038041, 0.8421052631578947)), \n",
    "  ({'atr_len': 11, 'macd_fastLen': 12, 'macd_slowLen': 34, 'macd_signalSmooth': 8, 'macd_peakLen': 3, 'gain_ratio': 1, 'loss_ratio': 2, 'peak2_len': 20, 'peak3_len': 50, 'ticker': 'APEI'}, 2.0366076166126192, (3.7104034891264814, 0.11648177496038041, 0.8421052631578947))], \n",
    " [({'atr_len': 11, 'macd_fastLen': 11, 'macd_slowLen': 32, 'macd_signalSmooth': 9, 'macd_peakLen': 3, 'gain_ratio': 2, 'loss_ratio': 2, 'peak2_len': 20, 'peak3_len': 40, 'ticker': 'AMD'}, 1.849847643646547, (3.3907980441853245, 0.11904761904761897, 0.7368421052631579)), \n",
    "  ({'atr_len': 11, 'macd_fastLen': 11, 'macd_slowLen': 32, 'macd_signalSmooth': 9, 'macd_peakLen': 3, 'gain_ratio': 2, 'loss_ratio': 2, 'peak2_len': 30, 'peak3_len': 40, 'ticker': 'AMD'}, 1.849847643646547, (3.3907980441853245, 0.11904761904761897, 0.7368421052631579)), \n",
    "  ({'atr_len': 12, 'macd_fastLen': 11, 'macd_slowLen': 32, 'macd_signalSmooth': 9, 'macd_peakLen': 3, 'gain_ratio': 2, 'loss_ratio': 2, 'peak2_len': 20, 'peak3_len': 40, 'ticker': 'AMD'}, 1.849847643646547, (3.3907980441853245, 0.11904761904761897, 0.7368421052631579))], \n",
    " [({'atr_len': 11, 'macd_fastLen': 13, 'macd_slowLen': 34, 'macd_signalSmooth': 9, 'macd_peakLen': 3, 'gain_ratio': 1, 'loss_ratio': 2, 'peak2_len': 20, 'peak3_len': 50, 'ticker': 'ALKS'}, 1.7468196127450313, (3.106283341735894, 0.10528823249166275, 0.88)), \n",
    "  ({'atr_len': 11, 'macd_fastLen': 13, 'macd_slowLen': 34, 'macd_signalSmooth': 9, 'macd_peakLen': 3, 'gain_ratio': 1, 'loss_ratio': 2, 'peak2_len': 30, 'peak3_len': 50, 'ticker': 'ALKS'}, 1.7468196127450313, (3.106283341735894, 0.10528823249166275, 0.88)), \n",
    "  ({'atr_len': 12, 'macd_fastLen': 13, 'macd_slowLen': 34, 'macd_signalSmooth': 9, 'macd_peakLen': 3, 'gain_ratio': 1, 'loss_ratio': 2, 'peak2_len': 20, 'peak3_len': 50, 'ticker': 'ALKS'}, 1.7378494088393746, (3.0883429339245807, 0.10528823249166275, 0.88))], \n",
    " [({'atr_len': 11, 'macd_fastLen': 13, 'macd_slowLen': 32, 'macd_signalSmooth': 7, 'macd_peakLen': 3, 'gain_ratio': 1, 'loss_ratio': 2, 'peak2_len': 20, 'peak3_len': 40, 'ticker': 'AMWD'}, 1.6715452742526715, (2.998660557966081, 0.09685430463576158, 0.7857142857142857)), \n",
    "  ({'atr_len': 11, 'macd_fastLen': 13, 'macd_slowLen': 32, 'macd_signalSmooth': 7, 'macd_peakLen': 3, 'gain_ratio': 1, 'loss_ratio': 2, 'peak2_len': 30, 'peak3_len': 40, 'ticker': 'AMWD'}, 1.6715452742526715, (2.998660557966081, 0.09685430463576158, 0.7857142857142857)), \n",
    "  ({'atr_len': 12, 'macd_fastLen': 13, 'macd_slowLen': 32, 'macd_signalSmooth': 7, 'macd_peakLen': 3, 'gain_ratio': 1, 'loss_ratio': 2, 'peak2_len': 20, 'peak3_len': 40, 'ticker': 'AMWD'}, 1.6715452742526715, (2.998660557966081, 0.09685430463576158, 0.7857142857142857))], \n",
    " [({'atr_len': 13, 'macd_fastLen': 13, 'macd_slowLen': 32, 'macd_signalSmooth': 9, 'macd_peakLen': 5, 'gain_ratio': 2, 'loss_ratio': 2, 'peak2_len': 20, 'peak3_len': 50, 'ticker': 'ACTG'}, 1.5999344523132144, (2.848774480597031, 0.11599297012302287, 0.8181818181818182)), \n",
    "  ({'atr_len': 13, 'macd_fastLen': 13, 'macd_slowLen': 32, 'macd_signalSmooth': 9, 'macd_peakLen': 5, 'gain_ratio': 2, 'loss_ratio': 2, 'peak2_len': 30, 'peak3_len': 50, 'ticker': 'ACTG'}, 1.5999344523132144, (2.848774480597031, 0.11599297012302287, 0.8181818181818182)), \n",
    "  ({'atr_len': 12, 'macd_fastLen': 13, 'macd_slowLen': 32, 'macd_signalSmooth': 9, 'macd_peakLen': 5, 'gain_ratio': 2, 'loss_ratio': 2, 'peak2_len': 20, 'peak3_len': 50, 'ticker': 'ACTG'}, 1.572864988356339, (2.798589858482929, 0.12390158172231987, 0.8181818181818182))], \n",
    " [({'atr_len': 13, 'macd_fastLen': 12, 'macd_slowLen': 34, 'macd_signalSmooth': 7, 'macd_peakLen': 5, 'gain_ratio': 2, 'loss_ratio': 1, 'peak2_len': 20, 'peak3_len': 50, 'ticker': 'ALB'}, 1.5191257718523374, (2.676058740744835, 0.10894772741365424, 0.8333333333333335)), \n",
    "  ({'atr_len': 13, 'macd_fastLen': 12, 'macd_slowLen': 34, 'macd_signalSmooth': 7, 'macd_peakLen': 5, 'gain_ratio': 2, 'loss_ratio': 1, 'peak2_len': 30, 'peak3_len': 50, 'ticker': 'ALB'}, 1.5191257718523374, (2.676058740744835, 0.10894772741365424, 0.8333333333333335)), \n",
    "  ({'atr_len': 12, 'macd_fastLen': 12, 'macd_slowLen': 34, 'macd_signalSmooth': 7, 'macd_peakLen': 5, 'gain_ratio': 2, 'loss_ratio': 1, 'peak2_len': 20, 'peak3_len': 50, 'ticker': 'ALB'}, 1.5145405982330842, (2.666888393506329, 0.10894772741365424, 0.8333333333333335))], \n",
    " [({'atr_len': 11, 'macd_fastLen': 12, 'macd_slowLen': 32, 'macd_signalSmooth': 7, 'macd_peakLen': 3, 'gain_ratio': 1, 'loss_ratio': 2, 'peak2_len': 20, 'peak3_len': 40, 'ticker': 'AMOT'}, 1.5123915628941829, (2.710703439870885, 0.11377611203600689, 0.7419354838709676)), \n",
    "  ({'atr_len': 11, 'macd_fastLen': 12, 'macd_slowLen': 32, 'macd_signalSmooth': 7, 'macd_peakLen': 3, 'gain_ratio': 1, 'loss_ratio': 2, 'peak2_len': 30, 'peak3_len': 40, 'ticker': 'AMOT'}, 1.5123915628941829, (2.710703439870885, 0.11377611203600689, 0.7419354838709676)), \n",
    "  ({'atr_len': 12, 'macd_fastLen': 12, 'macd_slowLen': 32, 'macd_signalSmooth': 7, 'macd_peakLen': 3, 'gain_ratio': 1, 'loss_ratio': 2, 'peak2_len': 20, 'peak3_len': 40, 'ticker': 'AMOT'}, 1.5123915628941829, (2.710703439870885, 0.11377611203600689, 0.7419354838709676))], \n",
    "  [({'atr_len': 13, 'macd_fastLen': 13, 'macd_slowLen': 32, 'macd_signalSmooth': 9, 'macd_peakLen': 3, 'gain_ratio': 1, 'loss_ratio': 1, 'peak2_len': 20, 'peak3_len': 40, 'ticker': 'AEHR'}, 1.509152571813173, (2.723600282515235, 0.13281249999999994, 0.7222222222222221)), \n",
    "   ({'atr_len': 13, 'macd_fastLen': 13, 'macd_slowLen': 32, 'macd_signalSmooth': 9, 'macd_peakLen': 3, 'gain_ratio': 1, 'loss_ratio': 1, 'peak2_len': 20, 'peak3_len': 50, 'ticker': 'AEHR'}, 1.509152571813173, (2.723600282515235, 0.13281249999999994, 0.7222222222222221)), \n",
    "   ({'atr_len': 13, 'macd_fastLen': 13, 'macd_slowLen': 32, 'macd_signalSmooth': 9, 'macd_peakLen': 3, 'gain_ratio': 1, 'loss_ratio': 1, 'peak2_len': 30, 'peak3_len': 40, 'ticker': 'AEHR'}, 1.509152571813173, (2.723600282515235, 0.13281249999999994, 0.7222222222222221))], \n",
    "  [({'atr_len': 13, 'macd_fastLen': 13, 'macd_slowLen': 34, 'macd_signalSmooth': 8, 'macd_peakLen': 5, 'gain_ratio': 1, 'loss_ratio': 1, 'peak2_len': 20, 'peak3_len': 50, 'ticker': 'ACOR'}, 1.3258494253553033, (2.32187126450371, 0.0903448275862069, 0.75)), \n",
    "   ({'atr_len': 13, 'macd_fastLen': 13, 'macd_slowLen': 34, 'macd_signalSmooth': 8, 'macd_peakLen': 5, 'gain_ratio': 1, 'loss_ratio': 1, 'peak2_len': 30, 'peak3_len': 50, 'ticker': 'ACOR'}, 1.3258494253553033, (2.32187126450371, 0.0903448275862069, 0.75)), \n",
    "   ({'atr_len': 12, 'macd_fastLen': 13, 'macd_slowLen': 34, 'macd_signalSmooth': 8, 'macd_peakLen': 5, 'gain_ratio': 1, 'loss_ratio': 1, 'peak2_len': 20, 'peak3_len': 50, 'ticker': 'ACOR'}, 1.2990487886851185, (2.2682699911633404, 0.0903448275862069, 0.75))], \n",
    "  [({'atr_len': 13, 'macd_fastLen': 11, 'macd_slowLen': 32, 'macd_signalSmooth': 9, 'macd_peakLen': 5, 'gain_ratio': 2, 'loss_ratio': 1, 'peak2_len': 20, 'peak3_len': 50, 'ticker': 'AROC'}, 1.3144269189989548, (2.2430632397073116, 0.11730769230769236, 0.8888888888888888)), \n",
    "   ({'atr_len': 13, 'macd_fastLen': 11, 'macd_slowLen': 32, 'macd_signalSmooth': 9, 'macd_peakLen': 5, 'gain_ratio': 2, 'loss_ratio': 1, 'peak2_len': 30, 'peak3_len': 50, 'ticker': 'AROC'}, 1.3144269189989548, (2.2430632397073116, 0.11730769230769236, 0.8888888888888888)), \n",
    "   ({'atr_len': 12, 'macd_fastLen': 11, 'macd_slowLen': 32, 'macd_signalSmooth': 9, 'macd_peakLen': 5, 'gain_ratio': 2, 'loss_ratio': 1, 'peak2_len': 20, 'peak3_len': 50, 'ticker': 'AROC'}, 1.3081601301299552, (2.2305296619693125, 0.11730769230769236, 0.8888888888888888))],\n",
    "  [({'atr_len': 11, 'macd_fastLen': 11, 'macd_slowLen': 32, 'macd_signalSmooth': 7, 'macd_peakLen': 3, 'gain_ratio': 1, 'loss_ratio': 2, 'peak2_len': 20, 'peak3_len': 40, 'ticker': 'AORT'}, 1.28629410024097, (2.2362349091654132, 0.10854341736694684, 0.78125)), \n",
    "   ({'atr_len': 11, 'macd_fastLen': 11, 'macd_slowLen': 32, 'macd_signalSmooth': 7, 'macd_peakLen': 3, 'gain_ratio': 1, 'loss_ratio': 2, 'peak2_len': 30, 'peak3_len': 40, 'ticker': 'AORT'}, 1.28629410024097, (2.2362349091654132, 0.10854341736694684, 0.78125)), \n",
    "   ({'atr_len': 12, 'macd_fastLen': 11, 'macd_slowLen': 32, 'macd_signalSmooth': 7, 'macd_peakLen': 3, 'gain_ratio': 1, 'loss_ratio': 2, 'peak2_len': 20, 'peak3_len': 40, 'ticker': 'AORT'}, 1.28629410024097, (2.2362349091654132, 0.10854341736694684, 0.78125))], \n",
    "  [({'atr_len': 11, 'macd_fastLen': 12, 'macd_slowLen': 32, 'macd_signalSmooth': 8, 'macd_peakLen': 3, 'gain_ratio': 1, 'loss_ratio': 2, 'peak2_len': 20, 'peak3_len': 50, 'ticker': 'APA'}, 1.2537289010029347, (2.203661157180366, 0.09611041405269757, 0.7037037037037037)), \n",
    "   ({'atr_len': 11, 'macd_fastLen': 12, 'macd_slowLen': 32, 'macd_signalSmooth': 8, 'macd_peakLen': 3, 'gain_ratio': 1, 'loss_ratio': 2, 'peak2_len': 30, 'peak3_len': 50, 'ticker': 'APA'}, 1.2537289010029347, (2.203661157180366, 0.09611041405269757, 0.7037037037037037)), \n",
    "   ({'atr_len': 12, 'macd_fastLen': 12, 'macd_slowLen': 32, 'macd_signalSmooth': 8, 'macd_peakLen': 3, 'gain_ratio': 1, 'loss_ratio': 2, 'peak2_len': 20, 'peak3_len': 50, 'ticker': 'APA'}, 1.2463451917198451, (2.1888937386141873, 0.09611041405269757, 0.7037037037037037))], \n",
    "  [({'atr_len': 13, 'macd_fastLen': 12, 'macd_slowLen': 34, 'macd_signalSmooth': 7, 'macd_peakLen': 3, 'gain_ratio': 1, 'loss_ratio': 2, 'peak2_len': 20, 'peak3_len': 40, 'ticker': 'ABG'}, 1.2523515822961309, (2.1787917952598397, 0.08151059466848934, 0.7333333333333333)), \n",
    "   ({'atr_len': 13, 'macd_fastLen': 12, 'macd_slowLen': 34, 'macd_signalSmooth': 7, 'macd_peakLen': 3, 'gain_ratio': 1, 'loss_ratio': 2, 'peak2_len': 30, 'peak3_len': 40, 'ticker': 'ABG'}, 1.2523515822961309, (2.1787917952598397, 0.08151059466848934, 0.7333333333333333)), \n",
    "   ({'atr_len': 12, 'macd_fastLen': 12, 'macd_slowLen': 34, 'macd_signalSmooth': 7, 'macd_peakLen': 3, 'gain_ratio': 1, 'loss_ratio': 2, 'peak2_len': 20, 'peak3_len': 40, 'ticker': 'ABG'}, 1.1778442927723243, (2.0416051732014737, 0.08151059466848934, 0.7096774193548387))], \n",
    "  [({'atr_len': 12, 'macd_fastLen': 13, 'macd_slowLen': 32, 'macd_signalSmooth': 7, 'macd_peakLen': 3, 'gain_ratio': 2, 'loss_ratio': 2, 'peak2_len': 20, 'peak3_len': 50, 'ticker': 'AN'}, 1.2236379094389713, (2.1201578716482636, 0.10766886744540362, 0.7619047619047619)), \n",
    "   ({'atr_len': 12, 'macd_fastLen': 13, 'macd_slowLen': 32, 'macd_signalSmooth': 7, 'macd_peakLen': 3, 'gain_ratio': 2, 'loss_ratio': 2, 'peak2_len': 30, 'peak3_len': 50, 'ticker': 'AN'}, 1.2236379094389713, (2.1201578716482636, 0.10766886744540362, 0.7619047619047619)), \n",
    "   ({'atr_len': 13, 'macd_fastLen': 13, 'macd_slowLen': 32, 'macd_signalSmooth': 7, 'macd_peakLen': 3, 'gain_ratio': 2, 'loss_ratio': 2, 'peak2_len': 20, 'peak3_len': 50, 'ticker': 'AN'}, 1.2236379094389713, (2.1201578716482636, 0.10766886744540362, 0.7619047619047619))],\n",
    "  [({'atr_len': 11, 'macd_fastLen': 12, 'macd_slowLen': 34, 'macd_signalSmooth': 7, 'macd_peakLen': 3, 'gain_ratio': 1, 'loss_ratio': 2, 'peak2_len': 20, 'peak3_len': 50, 'ticker': 'ALV'}, 1.139171231633149, (1.914564548329703, 0.09387274155538101, 0.8214285714285714)), \n",
    "   ({'atr_len': 11, 'macd_fastLen': 12, 'macd_slowLen': 34, 'macd_signalSmooth': 7, 'macd_peakLen': 3, 'gain_ratio': 1, 'loss_ratio': 2, 'peak2_len': 30, 'peak3_len': 50, 'ticker': 'ALV'}, 1.139171231633149, (1.914564548329703, 0.09387274155538101, 0.8214285714285714)), \n",
    "   ({'atr_len': 12, 'macd_fastLen': 12, 'macd_slowLen': 34, 'macd_signalSmooth': 7, 'macd_peakLen': 3, 'gain_ratio': 1, 'loss_ratio': 2, 'peak2_len': 20, 'peak3_len': 50, 'ticker': 'ALV'}, 1.139171231633149, (1.914564548329703, 0.09387274155538101, 0.8214285714285714))], \n",
    "  [({'atr_len': 13, 'macd_fastLen': 11, 'macd_slowLen': 34, 'macd_signalSmooth': 9, 'macd_peakLen': 5, 'gain_ratio': 2, 'loss_ratio': 2, 'peak2_len': 20, 'peak3_len': 50, 'ticker': 'ACIW'}, 1.1380373112273041, (1.8728656326492328, 0.06858202038924917, 0.875)), \n",
    "   ({'atr_len': 13, 'macd_fastLen': 11, 'macd_slowLen': 34, 'macd_signalSmooth': 9, 'macd_peakLen': 5, 'gain_ratio': 2, 'loss_ratio': 2, 'peak2_len': 30, 'peak3_len': 50, 'ticker': 'ACIW'}, 1.1380373112273041, (1.8728656326492328, 0.06858202038924917, 0.875)), \n",
    "   ({'atr_len': 13, 'macd_fastLen': 13, 'macd_slowLen': 32, 'macd_signalSmooth': 8, 'macd_peakLen': 5, 'gain_ratio': 2, 'loss_ratio': 2, 'peak2_len': 20, 'peak3_len': 50, 'ticker': 'ACIW'}, 1.1380373112273041, (1.8728656326492328, 0.06858202038924917, 0.875))], \n",
    "  [({'atr_len': 11, 'macd_fastLen': 12, 'macd_slowLen': 34, 'macd_signalSmooth': 8, 'macd_peakLen': 3, 'gain_ratio': 2, 'loss_ratio': 2, 'peak2_len': 20, 'peak3_len': 50, 'ticker': 'ALK'}, 1.1153747404214789, (1.9109288511432125, 0.09948917538311855, 0.7391304347826086)), \n",
    "   ({'atr_len': 11, 'macd_fastLen': 12, 'macd_slowLen': 34, 'macd_signalSmooth': 8, 'macd_peakLen': 3, 'gain_ratio': 2, 'loss_ratio': 2, 'peak2_len': 30, 'peak3_len': 50, 'ticker': 'ALK'}, 1.1153747404214789, (1.9109288511432125, 0.09948917538311855, 0.7391304347826086)), \n",
    "   ({'atr_len': 12, 'macd_fastLen': 12, 'macd_slowLen': 34, 'macd_signalSmooth': 8, 'macd_peakLen': 3, 'gain_ratio': 2, 'loss_ratio': 2, 'peak2_len': 20, 'peak3_len': 50, 'ticker': 'ALK'}, 1.1153747404214789, (1.9109288511432125, 0.09948917538311855, 0.7391304347826086))], \n",
    "  [({'atr_len': 11, 'macd_fastLen': 12, 'macd_slowLen': 34, 'macd_signalSmooth': 8, 'macd_peakLen': 3, 'gain_ratio': 1, 'loss_ratio': 1, 'peak2_len': 20, 'peak3_len': 50, 'ticker': 'AB'}, 1.091916966689969, (1.8562279029175768, 0.05446535843011612, 0.7096774193548387)), \n",
    "   ({'atr_len': 11, 'macd_fastLen': 12, 'macd_slowLen': 34, 'macd_signalSmooth': 8, 'macd_peakLen': 3, 'gain_ratio': 1, 'loss_ratio': 1, 'peak2_len': 30, 'peak3_len': 50, 'ticker': 'AB'}, 1.091916966689969, (1.8562279029175768, 0.05446535843011612, 0.7096774193548387)), \n",
    "   ({'atr_len': 12, 'macd_fastLen': 12, 'macd_slowLen': 34, 'macd_signalSmooth': 8, 'macd_peakLen': 3, 'gain_ratio': 1, 'loss_ratio': 1, 'peak2_len': 20, 'peak3_len': 50, 'ticker': 'AB'}, 1.091916966689969, (1.8562279029175768, 0.05446535843011612, 0.7096774193548387))]]\n",
    "import pickle\n",
    "with open(\"test\", \"rb\") as fp:   # Unpickling\n",
    "  b = pickle.load(fp)"
   ]
  },
  {
   "cell_type": "code",
   "execution_count": 18,
   "metadata": {},
   "outputs": [],
   "source": [
    "#1973:2117 result done"
   ]
  },
  {
   "cell_type": "code",
   "execution_count": null,
   "metadata": {},
   "outputs": [],
   "source": [
    "#1781:1973 result "
   ]
  }
 ],
 "metadata": {
  "kernelspec": {
   "display_name": "Python 3",
   "language": "python",
   "name": "python3"
  },
  "language_info": {
   "codemirror_mode": {
    "name": "ipython",
    "version": 3
   },
   "file_extension": ".py",
   "mimetype": "text/x-python",
   "name": "python",
   "nbconvert_exporter": "python",
   "pygments_lexer": "ipython3",
   "version": "3.10.11"
  }
 },
 "nbformat": 4,
 "nbformat_minor": 2
}
