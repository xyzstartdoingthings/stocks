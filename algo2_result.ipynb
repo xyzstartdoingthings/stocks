{
 "cells": [
  {
   "cell_type": "code",
   "execution_count": 71,
   "metadata": {},
   "outputs": [
    {
     "data": {
      "text/plain": [
       "24"
      ]
     },
     "execution_count": 71,
     "metadata": {},
     "output_type": "execute_result"
    }
   ],
   "source": [
    "import pickle\n",
    "import os\n",
    "from pathlib import Path\n",
    "from algo_2 import *\n",
    "#0:144 result done\n",
    "with open('output 0 to 144','rb') as f:\n",
    "     output_0_144 = pickle.load(f)\n",
    "len(output_0_144)"
   ]
  },
  {
   "cell_type": "code",
   "execution_count": 72,
   "metadata": {},
   "outputs": [
    {
     "data": {
      "text/plain": [
       "24"
      ]
     },
     "execution_count": 72,
     "metadata": {},
     "output_type": "execute_result"
    }
   ],
   "source": [
    "#1973:2117 result done\n",
    "with open('output 1973 to 2116','rb') as f:\n",
    "     output_2116_1973 = pickle.load(f)\n",
    "len(output_2116_1973)"
   ]
  },
  {
   "cell_type": "code",
   "execution_count": 73,
   "metadata": {},
   "outputs": [
    {
     "data": {
      "text/plain": [
       "32"
      ]
     },
     "execution_count": 73,
     "metadata": {},
     "output_type": "execute_result"
    }
   ],
   "source": [
    "#1781:1973 result  done\n",
    "with open('output 1781 to 1972','rb') as f:\n",
    "     output_1781_1972 = pickle.load(f)\n",
    "len(output_1781_1972)"
   ]
  },
  {
   "cell_type": "code",
   "execution_count": 74,
   "metadata": {},
   "outputs": [
    {
     "data": {
      "text/plain": [
       "11"
      ]
     },
     "execution_count": 74,
     "metadata": {},
     "output_type": "execute_result"
    }
   ],
   "source": [
    "#1685:1781 result \n",
    "with open('output 1685 to 1780','rb') as f:\n",
    "     output_1685_1780 = pickle.load(f)\n",
    "len(output_1685_1780)"
   ]
  },
  {
   "cell_type": "code",
   "execution_count": null,
   "metadata": {},
   "outputs": [],
   "source": [
    "# 1589:1685 result done"
   ]
  },
  {
   "cell_type": "code",
   "execution_count": 75,
   "metadata": {},
   "outputs": [
    {
     "data": {
      "text/plain": [
       "22"
      ]
     },
     "execution_count": 75,
     "metadata": {},
     "output_type": "execute_result"
    }
   ],
   "source": [
    "#1445:1589 result done\n",
    "with open('output 1445 to 1588','rb') as f:\n",
    "     output_1445_1588 = pickle.load(f)\n",
    "len(output_1445_1588)"
   ]
  },
  {
   "cell_type": "code",
   "execution_count": null,
   "metadata": {},
   "outputs": [],
   "source": [
    "#1301:1445 result"
   ]
  },
  {
   "cell_type": "code",
   "execution_count": 76,
   "metadata": {},
   "outputs": [
    {
     "data": {
      "text/plain": [
       "23"
      ]
     },
     "execution_count": 76,
     "metadata": {},
     "output_type": "execute_result"
    }
   ],
   "source": [
    "#1157:1301 result done\n",
    "with open('output 1157 to 1300','rb') as f:\n",
    "     output_1157_1300 = pickle.load(f)\n",
    "len(output_1157_1300)\n"
   ]
  },
  {
   "cell_type": "code",
   "execution_count": null,
   "metadata": {},
   "outputs": [],
   "source": [
    "#677:1157 result"
   ]
  },
  {
   "cell_type": "code",
   "execution_count": null,
   "metadata": {},
   "outputs": [],
   "source": [
    "#677:677 result"
   ]
  },
  {
   "cell_type": "code",
   "execution_count": 77,
   "metadata": {},
   "outputs": [
    {
     "data": {
      "text/plain": [
       "148"
      ]
     },
     "execution_count": 77,
     "metadata": {},
     "output_type": "execute_result"
    }
   ],
   "source": [
    "# List all files in the directory that start with \"output \"\n",
    "directory = os.getcwd()\n",
    "pickle_files = [f for f in os.listdir(directory) if f.startswith(\"output \")]\n",
    "\n",
    "# Initialize a dictionary to store the contents of each pickle file\n",
    "pickle_contents = []\n",
    "\n",
    "# Loop through each file, read its content, and store it in the dictionary\n",
    "for file_name in pickle_files:\n",
    "    file_path = os.path.join(directory, file_name)\n",
    "    with open(file_path, 'rb') as file:\n",
    "        pickle_contents.extend(pickle.load(file))\n",
    "\n",
    "# pickle_contents.keys()\n",
    "pickle_contents.sort(key=lambda x: x[0][1], reverse=True)\n",
    "all_tickers = [i[0][0][\"ticker\"] for i in pickle_contents]\n",
    "len(all_tickers)"
   ]
  },
  {
   "cell_type": "code",
   "execution_count": 94,
   "metadata": {},
   "outputs": [],
   "source": [
    "finer_pick = []\n",
    "a = []\n",
    "b=[]\n",
    "c=[]\n",
    "finer_finer_pick = []\n",
    "for i in pickle_contents:\n",
    "    for j in range(len(i)):\n",
    "        stock = algo2(**i[j][0])\n",
    "        # eval(stock, opt=False)\n",
    "        maximum_drawdown, ROI, win_loss_ratio = eval(stock, opt=True)\n",
    "        buy_orders = []\n",
    "        sell_orders = []\n",
    "        current_order = None\n",
    "        money = 100000\n",
    "        short = None\n",
    "        long = None\n",
    "\n",
    "        for index, row in stock.iterrows():\n",
    "            if row['order'] > 0:\n",
    "                if current_order is None and short is None:\n",
    "                    current_order = {\"Initial Money\": money, 'Buy Date': row['date'], 'Buy Price': stock.loc[index -\n",
    "                                                                                                            1, 'close'], \"Shares Purchased\": money/stock.loc[index - 1, 'close'], \"long/short\": \"long\"}\n",
    "                    long = True\n",
    "                elif current_order is not None and short is not None:\n",
    "                    current_order['Sell Date'] = row['date']\n",
    "                    current_order['Sell Price'] = row['close']\n",
    "                    current_order[\"Price Change\"] = current_order[\"Sell Price\"] - \\\n",
    "                        current_order[\"Buy Price\"]\n",
    "                    current_order[\"Profit\"] = current_order[\"Price Change\"] * \\\n",
    "                        current_order[\"Shares Purchased\"] * -1\n",
    "                    current_order[\"Money After Order\"] = current_order[\"Shares Purchased\"] * \\\n",
    "                        current_order['Buy Price'] + current_order[\"Profit\"]\n",
    "                    money = current_order[\"Money After Order\"]\n",
    "                    sell_orders.append(current_order)\n",
    "                    short = None\n",
    "                    current_order = {\"Initial Money\": money, 'Buy Date': row['date'], 'Buy Price': row[\n",
    "                        'close'], \"Shares Purchased\": money/row['close'], \"long/short\": \"long\"}\n",
    "                    long = True\n",
    "                else:\n",
    "                    continue\n",
    "            elif row['order'] < 0:\n",
    "                if current_order is None and long is None:\n",
    "                    current_order = {\"Initial Money\": money, 'Buy Date': row['date'], 'Buy Price': stock.loc[index -\n",
    "                                                                                                            1, 'close'], \"Shares Purchased\": money/stock.loc[index - 1, 'close'], \"long/short\": \"short\"}\n",
    "                    short = True\n",
    "                elif current_order is not None and long is not None:\n",
    "                    current_order['Sell Date'] = row['date']\n",
    "                    current_order['Sell Price'] = row['close']\n",
    "                    current_order[\"Price Change\"] = current_order[\"Sell Price\"] - \\\n",
    "                        current_order[\"Buy Price\"]\n",
    "                    current_order[\"Profit\"] = current_order[\"Price Change\"] * \\\n",
    "                        current_order[\"Shares Purchased\"]\n",
    "                    current_order[\"Money After Order\"] = current_order[\"Shares Purchased\"] * \\\n",
    "                        current_order['Buy Price'] + current_order[\"Profit\"]\n",
    "                    money = current_order[\"Money After Order\"]\n",
    "                    sell_orders.append(current_order)\n",
    "                    long = None\n",
    "                    current_order = {\"Initial Money\": money, 'Buy Date': row['date'], 'Buy Price': row[\n",
    "                        'close'], \"Shares Purchased\": money/row['close'], \"long/short\": \"short\"}\n",
    "                    short = True\n",
    "                else:\n",
    "                    continue\n",
    "            elif row['order'] == 0:\n",
    "                if current_order is not None:\n",
    "                    current_order['Sell Date'] = row['date']\n",
    "                    current_order['Sell Price'] = row['close']\n",
    "                    current_order[\"Price Change\"] = current_order[\"Sell Price\"] - \\\n",
    "                        current_order[\"Buy Price\"]\n",
    "                    if current_order['long/short'] == \"short\":\n",
    "                        current_order[\"Profit\"] = current_order[\"Price Change\"] * \\\n",
    "                            current_order[\"Shares Purchased\"] * -1\n",
    "                    elif current_order['long/short'] == \"long\":\n",
    "                        current_order[\"Profit\"] = current_order[\"Price Change\"] * \\\n",
    "                            current_order[\"Shares Purchased\"]\n",
    "                    current_order[\"Money After Order\"] = current_order[\"Shares Purchased\"] * \\\n",
    "                        current_order['Buy Price'] + current_order[\"Profit\"]\n",
    "                    money = current_order[\"Money After Order\"]\n",
    "                    sell_orders.append(current_order)\n",
    "                    current_order = None\n",
    "                    long = None\n",
    "                    short = None\n",
    "\n",
    "        # Create a new DataFrame for buy and sell orders\n",
    "        orders_df = pd.DataFrame(buy_orders + sell_orders)\n",
    "        if len(orders_df) >= 15:\n",
    "            if i[j][0][\"ticker\"] not in a:\n",
    "                a.append(i[j][0][\"ticker\"])\n",
    "            if ROI >= 2.2 and maximum_drawdown <= 0.12 and win_loss_ratio >= 0.75:\n",
    "                if i[j][0][\"ticker\"] not in finer_pick:\n",
    "                    finer_pick.append(i[j][0][\"ticker\"])\n",
    "            if ROI >= 2.2 and maximum_drawdown <= 0.10 and win_loss_ratio >= 0.78:\n",
    "                if i[j][0][\"ticker\"] not in b:\n",
    "                    b.append(i[j][0][\"ticker\"])\n",
    "            if ROI >= 2.2 and maximum_drawdown <= 0.15 and win_loss_ratio >= 0.8:\n",
    "                if i[j][0][\"ticker\"] not in c:\n",
    "                    c.append(i[j][0][\"ticker\"])\n",
    "            if ROI >=5 or maximum_drawdown <= 0.06 or win_loss_ratio >= 0.85:\n",
    "                if i[j][0][\"ticker\"] not in finer_finer_pick:\n",
    "                    finer_finer_pick.append(i[j][0][\"ticker\"])"
   ]
  },
  {
   "cell_type": "code",
   "execution_count": 95,
   "metadata": {},
   "outputs": [
    {
     "data": {
      "text/plain": [
       "Sector\n",
       "Basic Materials            6\n",
       "Communication Services     2\n",
       "Consumer Cyclical         11\n",
       "Consumer Defensive         4\n",
       "Energy                     1\n",
       "Financial Services         4\n",
       "Healthcare                 3\n",
       "Industrials                5\n",
       "Technology                 6\n",
       "Utilities                  1\n",
       "Name: Sector, dtype: int64"
      ]
     },
     "execution_count": 95,
     "metadata": {},
     "output_type": "execute_result"
    }
   ],
   "source": [
    "data_path = Path(os.getcwd())\n",
    "path = data_path / 'stock price data'\n",
    "finer_pick = set(finer_pick)\n",
    "ticker_all = pd.read_csv(path/\"finer_data_complete_stock.csv\")\n",
    "ticker_finer = ticker_all[ticker_all[\"Symbol\"].isin(finer_pick)]\n",
    "ticker_finer.groupby(\"Sector\")[\"Sector\"].count()"
   ]
  },
  {
   "cell_type": "code",
   "execution_count": 96,
   "metadata": {},
   "outputs": [
    {
     "data": {
      "text/plain": [
       "Sector\n",
       "Basic Materials            9\n",
       "Communication Services     5\n",
       "Consumer Cyclical         26\n",
       "Consumer Defensive         6\n",
       "Energy                     8\n",
       "Financial Services        17\n",
       "Healthcare                12\n",
       "Industrials               22\n",
       "Real Estate                3\n",
       "Technology                32\n",
       "Utilities                  3\n",
       "Name: Sector, dtype: int64"
      ]
     },
     "execution_count": 96,
     "metadata": {},
     "output_type": "execute_result"
    }
   ],
   "source": [
    "ticker_a = ticker_all[ticker_all[\"Symbol\"].isin(a)]\n",
    "ticker_a.groupby(\"Sector\")[\"Sector\"].count()"
   ]
  },
  {
   "cell_type": "code",
   "execution_count": 97,
   "metadata": {},
   "outputs": [
    {
     "data": {
      "text/plain": [
       "Sector\n",
       "Consumer Cyclical     9\n",
       "Consumer Defensive    3\n",
       "Financial Services    2\n",
       "Healthcare            1\n",
       "Industrials           1\n",
       "Technology            4\n",
       "Utilities             1\n",
       "Name: Sector, dtype: int64"
      ]
     },
     "execution_count": 97,
     "metadata": {},
     "output_type": "execute_result"
    }
   ],
   "source": [
    "ticker_b = ticker_all[ticker_all[\"Symbol\"].isin(b)]\n",
    "ticker_b.groupby(\"Sector\")[\"Sector\"].count()"
   ]
  },
  {
   "cell_type": "code",
   "execution_count": 98,
   "metadata": {},
   "outputs": [
    {
     "data": {
      "text/plain": [
       "Sector\n",
       "Basic Materials           3\n",
       "Communication Services    1\n",
       "Consumer Cyclical         7\n",
       "Consumer Defensive        3\n",
       "Energy                    2\n",
       "Financial Services        5\n",
       "Healthcare                3\n",
       "Industrials               2\n",
       "Real Estate               1\n",
       "Technology                8\n",
       "Utilities                 1\n",
       "Name: Sector, dtype: int64"
      ]
     },
     "execution_count": 98,
     "metadata": {},
     "output_type": "execute_result"
    }
   ],
   "source": [
    "ticker_c = ticker_all[ticker_all[\"Symbol\"].isin(c)]\n",
    "ticker_c.groupby(\"Sector\")[\"Sector\"].count()"
   ]
  },
  {
   "cell_type": "code",
   "execution_count": 99,
   "metadata": {},
   "outputs": [
    {
     "data": {
      "text/plain": [
       "Sector\n",
       "Basic Materials            4\n",
       "Communication Services     1\n",
       "Consumer Cyclical          6\n",
       "Consumer Defensive         2\n",
       "Energy                     2\n",
       "Financial Services         9\n",
       "Healthcare                 5\n",
       "Industrials                4\n",
       "Technology                13\n",
       "Utilities                  1\n",
       "Name: Sector, dtype: int64"
      ]
     },
     "execution_count": 99,
     "metadata": {},
     "output_type": "execute_result"
    }
   ],
   "source": [
    "finer_finer_pick = set(finer_finer_pick)\n",
    "ticker_finer_finer = ticker_all[ticker_all[\"Symbol\"].isin(finer_finer_pick)]\n",
    "ticker_finer_finer.groupby(\"Sector\")[\"Sector\"].count()"
   ]
  },
  {
   "cell_type": "code",
   "execution_count": 100,
   "metadata": {},
   "outputs": [
    {
     "data": {
      "text/html": [
       "<div>\n",
       "<style scoped>\n",
       "    .dataframe tbody tr th:only-of-type {\n",
       "        vertical-align: middle;\n",
       "    }\n",
       "\n",
       "    .dataframe tbody tr th {\n",
       "        vertical-align: top;\n",
       "    }\n",
       "\n",
       "    .dataframe thead th {\n",
       "        text-align: right;\n",
       "    }\n",
       "</style>\n",
       "<table border=\"1\" class=\"dataframe\">\n",
       "  <thead>\n",
       "    <tr style=\"text-align: right;\">\n",
       "      <th></th>\n",
       "      <th>atr_len</th>\n",
       "      <th>macd_fastLen</th>\n",
       "      <th>macd_slowLen</th>\n",
       "      <th>macd_signalSmooth</th>\n",
       "      <th>macd_peakLen</th>\n",
       "      <th>gain_ratio</th>\n",
       "      <th>loss_ratio</th>\n",
       "      <th>peak2_len</th>\n",
       "      <th>peak3_len</th>\n",
       "      <th>ticker</th>\n",
       "    </tr>\n",
       "  </thead>\n",
       "  <tbody>\n",
       "    <tr>\n",
       "      <th>count</th>\n",
       "      <td>43</td>\n",
       "      <td>43</td>\n",
       "      <td>43</td>\n",
       "      <td>43</td>\n",
       "      <td>43</td>\n",
       "      <td>43</td>\n",
       "      <td>43</td>\n",
       "      <td>43</td>\n",
       "      <td>43</td>\n",
       "      <td>43</td>\n",
       "    </tr>\n",
       "    <tr>\n",
       "      <th>unique</th>\n",
       "      <td>3</td>\n",
       "      <td>3</td>\n",
       "      <td>2</td>\n",
       "      <td>3</td>\n",
       "      <td>2</td>\n",
       "      <td>2</td>\n",
       "      <td>2</td>\n",
       "      <td>1</td>\n",
       "      <td>2</td>\n",
       "      <td>43</td>\n",
       "    </tr>\n",
       "    <tr>\n",
       "      <th>top</th>\n",
       "      <td>11</td>\n",
       "      <td>11</td>\n",
       "      <td>32</td>\n",
       "      <td>7</td>\n",
       "      <td>3</td>\n",
       "      <td>1</td>\n",
       "      <td>2</td>\n",
       "      <td>20</td>\n",
       "      <td>50</td>\n",
       "      <td>AMEH</td>\n",
       "    </tr>\n",
       "    <tr>\n",
       "      <th>freq</th>\n",
       "      <td>37</td>\n",
       "      <td>22</td>\n",
       "      <td>24</td>\n",
       "      <td>24</td>\n",
       "      <td>42</td>\n",
       "      <td>35</td>\n",
       "      <td>33</td>\n",
       "      <td>43</td>\n",
       "      <td>29</td>\n",
       "      <td>1</td>\n",
       "    </tr>\n",
       "  </tbody>\n",
       "</table>\n",
       "</div>"
      ],
      "text/plain": [
       "        atr_len  macd_fastLen  macd_slowLen  macd_signalSmooth  macd_peakLen  \\\n",
       "count        43            43            43                 43            43   \n",
       "unique        3             3             2                  3             2   \n",
       "top          11            11            32                  7             3   \n",
       "freq         37            22            24                 24            42   \n",
       "\n",
       "        gain_ratio  loss_ratio  peak2_len  peak3_len ticker  \n",
       "count           43          43         43         43     43  \n",
       "unique           2           2          1          2     43  \n",
       "top              1           2         20         50   AMEH  \n",
       "freq            35          33         43         29      1  "
      ]
     },
     "execution_count": 100,
     "metadata": {},
     "output_type": "execute_result"
    }
   ],
   "source": [
    "best_dict_finer = {}\n",
    "best_dict_finer_finer = {}\n",
    "for i in pickle_contents:\n",
    "    if i[0][0][\"ticker\"] in finer_pick:\n",
    "        best_dict_finer[i[0][0][\"ticker\"]] = i[0][0]\n",
    "    if i[0][0][\"ticker\"] in finer_finer_pick:\n",
    "        best_dict_finer_finer[i[0][0][\"ticker\"]] = i[0][0]\n",
    "\n",
    "best_dict_finer = pd.DataFrame(best_dict_finer).T\n",
    "best_dict_finer_finer = pd.DataFrame(best_dict_finer_finer).T\n",
    "best_dict_finer.describe()"
   ]
  },
  {
   "cell_type": "code",
   "execution_count": 101,
   "metadata": {},
   "outputs": [
    {
     "data": {
      "text/html": [
       "<div>\n",
       "<style scoped>\n",
       "    .dataframe tbody tr th:only-of-type {\n",
       "        vertical-align: middle;\n",
       "    }\n",
       "\n",
       "    .dataframe tbody tr th {\n",
       "        vertical-align: top;\n",
       "    }\n",
       "\n",
       "    .dataframe thead th {\n",
       "        text-align: right;\n",
       "    }\n",
       "</style>\n",
       "<table border=\"1\" class=\"dataframe\">\n",
       "  <thead>\n",
       "    <tr style=\"text-align: right;\">\n",
       "      <th></th>\n",
       "      <th>atr_len</th>\n",
       "      <th>macd_fastLen</th>\n",
       "      <th>macd_slowLen</th>\n",
       "      <th>macd_signalSmooth</th>\n",
       "      <th>macd_peakLen</th>\n",
       "      <th>gain_ratio</th>\n",
       "      <th>loss_ratio</th>\n",
       "      <th>peak2_len</th>\n",
       "      <th>peak3_len</th>\n",
       "      <th>ticker</th>\n",
       "    </tr>\n",
       "  </thead>\n",
       "  <tbody>\n",
       "    <tr>\n",
       "      <th>count</th>\n",
       "      <td>47</td>\n",
       "      <td>47</td>\n",
       "      <td>47</td>\n",
       "      <td>47</td>\n",
       "      <td>47</td>\n",
       "      <td>47</td>\n",
       "      <td>47</td>\n",
       "      <td>47</td>\n",
       "      <td>47</td>\n",
       "      <td>47</td>\n",
       "    </tr>\n",
       "    <tr>\n",
       "      <th>unique</th>\n",
       "      <td>3</td>\n",
       "      <td>3</td>\n",
       "      <td>2</td>\n",
       "      <td>3</td>\n",
       "      <td>2</td>\n",
       "      <td>2</td>\n",
       "      <td>2</td>\n",
       "      <td>1</td>\n",
       "      <td>2</td>\n",
       "      <td>47</td>\n",
       "    </tr>\n",
       "    <tr>\n",
       "      <th>top</th>\n",
       "      <td>11</td>\n",
       "      <td>13</td>\n",
       "      <td>34</td>\n",
       "      <td>7</td>\n",
       "      <td>3</td>\n",
       "      <td>1</td>\n",
       "      <td>2</td>\n",
       "      <td>20</td>\n",
       "      <td>50</td>\n",
       "      <td>SKE</td>\n",
       "    </tr>\n",
       "    <tr>\n",
       "      <th>freq</th>\n",
       "      <td>36</td>\n",
       "      <td>19</td>\n",
       "      <td>25</td>\n",
       "      <td>18</td>\n",
       "      <td>45</td>\n",
       "      <td>39</td>\n",
       "      <td>26</td>\n",
       "      <td>47</td>\n",
       "      <td>33</td>\n",
       "      <td>1</td>\n",
       "    </tr>\n",
       "  </tbody>\n",
       "</table>\n",
       "</div>"
      ],
      "text/plain": [
       "        atr_len  macd_fastLen  macd_slowLen  macd_signalSmooth  macd_peakLen  \\\n",
       "count        47            47            47                 47            47   \n",
       "unique        3             3             2                  3             2   \n",
       "top          11            13            34                  7             3   \n",
       "freq         36            19            25                 18            45   \n",
       "\n",
       "        gain_ratio  loss_ratio  peak2_len  peak3_len ticker  \n",
       "count           47          47         47         47     47  \n",
       "unique           2           2          1          2     47  \n",
       "top              1           2         20         50    SKE  \n",
       "freq            39          26         47         33      1  "
      ]
     },
     "execution_count": 101,
     "metadata": {},
     "output_type": "execute_result"
    }
   ],
   "source": [
    "best_dict_finer_finer.describe()"
   ]
  },
  {
   "cell_type": "code",
   "execution_count": null,
   "metadata": {},
   "outputs": [],
   "source": []
  }
 ],
 "metadata": {
  "kernelspec": {
   "display_name": "Python 3",
   "language": "python",
   "name": "python3"
  },
  "language_info": {
   "codemirror_mode": {
    "name": "ipython",
    "version": 3
   },
   "file_extension": ".py",
   "mimetype": "text/x-python",
   "name": "python",
   "nbconvert_exporter": "python",
   "pygments_lexer": "ipython3",
   "version": "3.10.11"
  }
 },
 "nbformat": 4,
 "nbformat_minor": 2
}
