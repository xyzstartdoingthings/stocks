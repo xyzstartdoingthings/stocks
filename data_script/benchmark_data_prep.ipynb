{
 "cells": [
  {
   "cell_type": "code",
   "execution_count": 2,
   "metadata": {},
   "outputs": [],
   "source": [
    "\n",
    "%matplotlib inline\n",
    "\n",
    "from pathlib import Path\n",
    "from datetime import date\n",
    "import json\n",
    "from io import BytesIO\n",
    "from zipfile import ZipFile, BadZipFile\n",
    "from tqdm import tqdm\n",
    "import requests\n",
    "import numpy as np\n",
    "import pandas as pd\n",
    "\n",
    "from pprint import pprint\n",
    "\n",
    "import seaborn as sns\n",
    "import matplotlib.pyplot as plt\n",
    "import matplotlib.ticker as mticker\n",
    "import os\n",
    "import multiprocessing\n",
    "import time\n",
    "# store data in this directory since we won't use it in other chapters"
   ]
  },
  {
   "cell_type": "code",
   "execution_count": 7,
   "metadata": {},
   "outputs": [],
   "source": [
    "sns.set_style('whitegrid')\n",
    "# store data in this directory since we won't use it in other chapters\n",
    "data_path = Path(os.getcwd()) # perhaps set to external harddrive to accomodate large amount of data\n",
    "benchmark_symbols=[\"^GSPC\", \"^DJI\",\"^IXIC\", \"^RUT\",\"CLUSD\", \"BTCUSD\"]\n",
    "from datetime import date\n",
    "today = date.today()\n",
    "path = data_path/\"stock price data\"/\"benchmark price daily\"\n",
    "for i in benchmark_symbols:\n",
    "    file_str=i+\".csv\"\n",
    "    comp_stock = pd.DataFrame()\n",
    "    url_sp = \"https://fmpcloud.io/api/v3/historical-price-full/{}?from=2010-01-01&to={}&apikey=skGF0OOFLta6LnSlAsnOzIOwlm0GOyYr\".format(i, today.strftime(\"%Y-%m-%d\"))\n",
    "    response_sp = requests.get(url_sp)\n",
    "    comp_stock = pd.DataFrame(response_sp.json()[\"historical\"])\n",
    "    comp_stock[\"Symbol\"] = i\n",
    "    comp_stock.to_csv(path/file_str, index=False)"
   ]
  },
  {
   "cell_type": "code",
   "execution_count": null,
   "metadata": {},
   "outputs": [],
   "source": []
  }
 ],
 "metadata": {
  "kernelspec": {
   "display_name": "Python 3",
   "language": "python",
   "name": "python3"
  },
  "language_info": {
   "codemirror_mode": {
    "name": "ipython",
    "version": 3
   },
   "file_extension": ".py",
   "mimetype": "text/x-python",
   "name": "python",
   "nbconvert_exporter": "python",
   "pygments_lexer": "ipython3",
   "version": "3.10.11"
  }
 },
 "nbformat": 4,
 "nbformat_minor": 2
}
