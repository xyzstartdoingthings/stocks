{
 "cells": [
  {
   "cell_type": "code",
   "execution_count": null,
   "metadata": {},
   "outputs": [],
   "source": [
    "#coarse filter: ROA, ROE, Current Ratio, Operating Margin, Profit Margin, Debt to Equity, assets turnover, volume, price\n",
    "#roa: net income (IS), total assets (BS)\n",
    "#roe: net income, common stock equity (BS)\n",
    "#current ratio: current assets (BS), current liability (BS)\n",
    "#operating margin: operating income (IS), opearing revenue (IS)\n",
    "#net profit margin: net income, total revenue (IS)\n",
    "#Debt to Equity: total liability (BS), common stock equity\n",
    "#assets turnover: total revenue, total assets"
   ]
  },
  {
   "cell_type": "code",
   "execution_count": null,
   "metadata": {},
   "outputs": [],
   "source": [
    "#stock/v2/get-financials\n",
    "#incomeStatementHistory: incomeStatementHistory: [0,1,2,3]: netIncomeApplicableToCommonShares, operatingIncome, totalRevenue, grossProfit, ebit, endDate\n",
    "#balanceSheetHistory: balanceSheetStatements: [0,1,2,3]: totalLiab, totalStockholderEquity, totalAssets, totalCurrentLiabilities, totalCurrentAssets, totalStockholderEquity, endDate, retainedEarnings\n",
    "\n",
    "#stock/v2/get-timeseries\n",
    "#input\n",
    "#period1: start time in Epoch, use current time - 1 year (look for python package to convert date time to epoch time)\n",
    "#period2: end time in Epoch, use current time\n",
    "#region: US\n",
    "#type: quarterlyCurrentAssets, quarterlyCurrentLiabilities, quarterlyearningsPerShare, quarterlyEBIT,  quarterlyGrossProfit, quarterlyNetIncomeCommonStockholders, quarterlyOperatingIncome, quarterlyOperatingRevenue, quarterlyRetainedEarnings, quarterlyStockholdersEquity, quarterlyTotalAssets, quarterlyTotalRevenue, quarterlyTotalLiabilitiesNetMinorityInterest\n",
    "#output (example for quarterlyCurrentAssets):\n",
    "#timeseries: result: quarterlyCurrentAssets: [0,1,2,3]: asofDate, reportedValue"
   ]
  },
  {
   "cell_type": "code",
   "execution_count": null,
   "metadata": {},
   "outputs": [],
   "source": [
    "#Fine filter (multifactor weighted scores top 200)\n",
    "#profitability (0.4)\n",
    "#\n",
    "#liquidity (0.4)\n",
    "#\n",
    "#Efficiency (0.2)\n",
    "#"
   ]
  }
 ],
 "metadata": {
  "language_info": {
   "name": "python"
  },
  "orig_nbformat": 4
 },
 "nbformat": 4,
 "nbformat_minor": 2
}
