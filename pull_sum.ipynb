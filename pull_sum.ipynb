{
 "cells": [
  {
   "attachments": {},
   "cell_type": "markdown",
   "metadata": {},
   "source": [
    "## Pull one symbol with one action"
   ]
  },
  {
   "cell_type": "code",
   "execution_count": null,
   "metadata": {},
   "outputs": [],
   "source": [
    "import requests\n",
    "\n",
    "url = \"https://apidojo-yahoo-finance-v1.p.rapidapi.com/stock/v2/get-summary\"\n",
    "\n",
    "querystring = {\"symbol\":\"AAPL\",\"region\":\"US\"}\n",
    "\n",
    "headers = {\n",
    "\t\"X-RapidAPI-Key\": \"551595c10emsh9ab76ccfb317820p1fa121jsnc738c9455698\",\n",
    "\t\"X-RapidAPI-Host\": \"apidojo-yahoo-finance-v1.p.rapidapi.com\"\n",
    "}\n",
    "\n",
    "response = requests.get(url, headers=headers, params=querystring)\n",
    "\n",
    "print(response.json())"
   ]
  },
  {
   "cell_type": "code",
   "execution_count": null,
   "metadata": {},
   "outputs": [],
   "source": [
    "import pprint\n",
    "pprint.pprint(response.json()[\"defaultKeyStatistics\"])"
   ]
  },
  {
   "cell_type": "code",
   "execution_count": null,
   "metadata": {},
   "outputs": [],
   "source": [
    "pprint.pprint(response.json())"
   ]
  },
  {
   "cell_type": "code",
   "execution_count": null,
   "metadata": {},
   "outputs": [],
   "source": [
    "# defaultKeyStatistics: beta (5Y Monthly), bookValue (book value per share), earningsQuarterlyGrowth (Quarterly earnings growth year-over-year), enterpriseToEbitda, enterpriseToRevenue, enterpriseValue, forwardEps (forward means using forecast earning for next 12 month), forwardPE, heldPercentInsiders, heldPercentInstitutions,\n",
    "# netIncomeToCommon (income that could be given to common stockholders, ttm), pegRatio, priceToBook, trailingEps (for recent past 12 month)\n",
    "\n",
    "# summaryProfile: sector, industry\n",
    "\n",
    "# price: averageDailyVolume10Day, averageDailyVolume3Month, marketCap\n",
    "\n",
    "# symbol\n",
    "\n",
    "# financialData: currentRatio (mrq), debtToEquity (mrq), ebitda (ttm), ebitdaMargins (ttm), freeCashflow (ttm), grossMargins (ttm), grossProfits (ttm), operatingCashflow (ttm), operatingMargins (ttm), profitMargins (ttm), quickRatio (mrq), returnOnAssets (ttm), returnOnEquity (ttm), revenueGrowth (quarterly revenue growth yoy), revenuePerShare (ttm)\n",
    "# totalCash (mrq), totalCashPerShare (mrq), totalDebt (mrq), totalRevenue (ttm)\n",
    "\n",
    "# esgScores: environmentScore, esgPerformance, governanceScore, highestControversy, peerEnvironmentPerformance, peerEsgScorePerformance, peerGovernancePerformance, peerHighestControversyPerformance, peerSocialPerformance, socialScore, totalEsg\n",
    "\n",
    "# summaryDetail: fiftyDayAverage, fiftyTwoWeekHigh, fiftyTwoWeekLow, twoHundredDayAverage, dividendRate, dividendYield, fiveYearAvgDividendYield, payoutRatio"
   ]
  },
  {
   "attachments": {},
   "cell_type": "markdown",
   "metadata": {},
   "source": [
    "**comment requirement: do not have \",\" in parenthesis.**\n",
    "\n",
    "save this in a txt file: e.g. _stock-v2-get-summary-keys.txt_"
   ]
  },
  {
   "cell_type": "code",
   "execution_count": null,
   "metadata": {},
   "outputs": [],
   "source": []
  },
  {
   "attachments": {},
   "cell_type": "markdown",
   "metadata": {},
   "source": [
    "## subset using keys"
   ]
  },
  {
   "cell_type": "code",
   "execution_count": 115,
   "metadata": {},
   "outputs": [],
   "source": [
    "full = response.json()\n",
    "from collections import defaultdict"
   ]
  },
  {
   "attachments": {},
   "cell_type": "markdown",
   "metadata": {},
   "source": [
    "read it into _content_ variable"
   ]
  },
  {
   "cell_type": "code",
   "execution_count": 117,
   "metadata": {},
   "outputs": [
    {
     "name": "stdout",
     "output_type": "stream",
     "text": [
      "7\n"
     ]
    },
    {
     "data": {
      "text/plain": [
       "['defaultKeyStatistics: beta (5Y Monthly), bookValue (book value per share), earningsQuarterlyGrowth (Quarterly earnings growth year-over-year), enterpriseToEbitda, enterpriseToRevenue, enterpriseValue, forwardEps (forward means using forecast earning for next 12 month), forwardPE, heldPercentInsiders, heldPercentInstitutions,\\nnetIncomeToCommon (income that could be given to common stockholders ttm), pegRatio, priceToBook, trailingEps (for recent past 12 month)',\n",
       " 'summaryProfile: sector, industry',\n",
       " 'price: averageDailyVolume10Day, averageDailyVolume3Month, marketCap',\n",
       " 'symbol',\n",
       " 'financialData: currentRatio (mrq), debtToEquity (mrq), ebitda (ttm), ebitdaMargins (ttm), freeCashflow (ttm), grossMargins (ttm), grossProfits (ttm), operatingCashflow (ttm), operatingMargins (ttm), profitMargins (ttm), quickRatio (mrq), returnOnAssets (ttm), returnOnEquity (ttm), revenueGrowth (quarterly revenue growth yoy), revenuePerShare (ttm)\\ntotalCash (mrq), totalCashPerShare (mrq), totalDebt (mrq), totalRevenue (ttm)',\n",
       " 'esgScores: environmentScore, esgPerformance, governanceScore, highestControversy, peerEnvironmentPerformance, peerEsgScorePerformance, peerGovernancePerformance, peerHighestControversyPerformance, peerSocialPerformance, socialScore, totalEsg',\n",
       " 'summaryDetail: fiftyDayAverage, fiftyTwoWeekHigh, fiftyTwoWeekLow, twoHundredDayAverage, dividendRate, dividendYield, fiveYearAvgDividendYield, payoutRatio']"
      ]
     },
     "execution_count": 117,
     "metadata": {},
     "output_type": "execute_result"
    }
   ],
   "source": [
    "file_path = \"stock-v2-get-summary-keys.txt\"\n",
    "try:\n",
    "    with open(file_path, 'r') as file:\n",
    "        content = file.read()\n",
    "except FileNotFoundError:\n",
    "    print(\"File not found.\")\n",
    "except IOError:\n",
    "    print(\"An error occurred while reading the file.\")\n",
    "\n",
    "print(len(content.split('\\n\\n')))\n",
    "items = content.split('\\n\\n')\n",
    "items"
   ]
  },
  {
   "cell_type": "code",
   "execution_count": 160,
   "metadata": {},
   "outputs": [],
   "source": [
    "# comment block for debug\n",
    "\n",
    "# items = [i for i in content.split('\\n') if i]\n",
    "# items = content.split('\\n\\n')\n",
    "# items"
   ]
  },
  {
   "cell_type": "code",
   "execution_count": 161,
   "metadata": {},
   "outputs": [],
   "source": [
    "# comment block for debug\n",
    "\n",
    "# item = items[0]\n",
    "# item.split(\":\")"
   ]
  },
  {
   "cell_type": "code",
   "execution_count": 162,
   "metadata": {},
   "outputs": [],
   "source": [
    "# # comment block for debug\n",
    "\n",
    "# item2 = item.split(\":\")[1].split(\",\")\n",
    "# item2\n",
    "# print(item2)\n",
    "# for skey in item2:\n",
    "#     print(skey.strip())\n",
    "#     print(\"extract from full | key: {}, val {}\".format(skey.strip().split(' (', 1)[0],full['defaultKeyStatistics'][skey.strip().split(' (', 1)[0]]))\n",
    "#     print(\"==========\")"
   ]
  },
  {
   "attachments": {},
   "cell_type": "markdown",
   "metadata": {},
   "source": [
    "take subset based on keys into _subset_ variable"
   ]
  },
  {
   "cell_type": "code",
   "execution_count": 129,
   "metadata": {},
   "outputs": [
    {
     "name": "stdout",
     "output_type": "stream",
     "text": [
      "Done: defaultKeyStatistics\n",
      "Done: summaryProfile\n",
      "Done: price\n",
      "Done: symbol\n",
      "Done: financialData\n",
      "Done: esgScores\n",
      "Done: summaryDetail\n"
     ]
    }
   ],
   "source": [
    "subset = defaultdict(dict)\n",
    "for item in items:\n",
    "    key_val = item.split(\":\")\n",
    "    if len(key_val) == 1:\n",
    "        # extract whole part for this item, such as symbol\n",
    "        key = key_val[0]\n",
    "        subset[key] = full[key]\n",
    "    elif len(key_val) == 2:\n",
    "        key, val = key_val\n",
    "        # for e.g. key = defaultKeyStatistics, val = ' beta (5Y Monthly), bookValue (book value per share), earningsQuarterlyGrowth...'\n",
    "        for sub_key in val.split(\",\"):\n",
    "            # for e.g. sub_key = ' beta (5Y Monthly)' or ' bookValue (book value per share)' etc.\n",
    "            # first trim the white space using .strip(), then remove the parenthesis when extracting from full dict using .split()\n",
    "            subset[key][sub_key.strip().replace(\" \",\"_\").replace(\"(\",\"\").replace(\")\",\"\")] = full[key][sub_key.strip().split(' (', 1)[0]]\n",
    "    else:\n",
    "        raise ValueError(\"only support nested one layer dictionary\")\n",
    "    \n",
    "    print(\"Done: {}\".format(key_val[0]))\n"
   ]
  },
  {
   "cell_type": "code",
   "execution_count": 130,
   "metadata": {},
   "outputs": [],
   "source": [
    "# \"beta (5Y Monthly)\".replace(\" \",\"_\").replace(\"(\",\"\").replace(\")\",\"\")"
   ]
  },
  {
   "cell_type": "code",
   "execution_count": null,
   "metadata": {},
   "outputs": [],
   "source": [
    "pprint.pprint(subset)"
   ]
  },
  {
   "attachments": {},
   "cell_type": "markdown",
   "metadata": {},
   "source": [
    "## convert to df"
   ]
  },
  {
   "cell_type": "code",
   "execution_count": 134,
   "metadata": {},
   "outputs": [],
   "source": [
    "import pandas as pd"
   ]
  },
  {
   "cell_type": "code",
   "execution_count": null,
   "metadata": {},
   "outputs": [],
   "source": [
    "data = {'defaultKeyStatistics': {'beta_5Y_Monthly': {'fmt': '1.29',\n",
    "                                                          'raw': 1.289436},\n",
    "                'bookValue_book_value_per_share': {'fmt': '3.95',\n",
    "                                                    'raw': 3.953},\n",
    "                'earningsQuarterlyGrowth_Quarterly_earnings_growth_year-over-year': {'fmt': '-3.40%',\n",
    "                                                                                    'raw': -0.034},\n",
    "                'enterpriseToEbitda': {'fmt': '23.81',\n",
    "                                        'raw': 23.807},\n",
    "                'enterpriseToRevenue': {'fmt': '7.65',\n",
    "                                        'raw': 7.653},\n",
    "                'enterpriseValue': {'fmt': '2.95T',\n",
    "                                    'longFmt': '2,947,037,790,208',\n",
    "                                    'raw': 2947037790208},\n",
    "                'forwardEps_forward_means_using_forecast_earning_for_next_12_month': {'fmt': '6.56',\n",
    "                                                                                    'raw': 6.56},\n",
    "                'forwardPE': {'fmt': '28.36',\n",
    "                            'raw': 28.355183},\n",
    "                'heldPercentInsiders': {'fmt': '0.07%',\n",
    "                                        'raw': 0.00071000005},\n",
    "                'heldPercentInstitutions': {'fmt': '61.23%',\n",
    "                                            'raw': 0.61232},\n",
    "                'netIncomeToCommon_income_that_could_be_given_to_common_stockholders_ttm': {'fmt': '94.32B',\n",
    "                                                                                            'longFmt': '94,321,000,448',\n",
    "                                                                                            'raw': 94321000448},\n",
    "                'pegRatio': {'fmt': '3.87', 'raw': 3.87},\n",
    "                'priceToBook': {'fmt': '47.06',\n",
    "                                'raw': 47.055397},\n",
    "                'trailingEps_for_recent_past_12_month': {'fmt': '5.90',\n",
    "                                                        'raw': 5.9}},\n",
    "'esgScores': {'environmentScore': {'fmt': '0.6', 'raw': 0.65},\n",
    "    'esgPerformance': 'UNDER_PERF',\n",
    "    'governanceScore': {'fmt': '9.2', 'raw': 9.18},\n",
    "    'highestControversy': 3,}\n",
    "}\n",
    "\n",
    "data = subset\n",
    "def process_leaf_numeric(value):\n",
    "    # process second layer info: e.g. beta_5Y_Monthly, bookValue_book_value_per_share, ... etc.\n",
    "    if not isinstance(value, dict):\n",
    "        return value\n",
    "    if \"raw\" in value:\n",
    "        return value[\"raw\"]\n",
    "    if \"avg\" in value:\n",
    "        return value['avg']\n",
    "\n",
    "dict_concat = {}\n",
    "for firstKey, dic in data.items():\n",
    "    # process first layer: e.g. defaultKeyStatistics, summaryProfile, symbol, ... etc.\n",
    "    print(firstKey)\n",
    "    if not isinstance(dic, dict):\n",
    "        dict_concat[firstKey] = dic\n",
    "        continue\n",
    "    flat_data = {\n",
    "        key: process_leaf_numeric(value)\n",
    "        for key, value in dic.items()\n",
    "    }\n",
    "    dict_concat.update(flat_data)\n",
    "# not set up layer properly\n",
    "\n",
    "\n",
    "pprint.pprint(dict_concat)"
   ]
  },
  {
   "cell_type": "code",
   "execution_count": 159,
   "metadata": {},
   "outputs": [
    {
     "data": {
      "text/html": [
       "<div>\n",
       "<style scoped>\n",
       "    .dataframe tbody tr th:only-of-type {\n",
       "        vertical-align: middle;\n",
       "    }\n",
       "\n",
       "    .dataframe tbody tr th {\n",
       "        vertical-align: top;\n",
       "    }\n",
       "\n",
       "    .dataframe thead th {\n",
       "        text-align: right;\n",
       "    }\n",
       "</style>\n",
       "<table border=\"1\" class=\"dataframe\">\n",
       "  <thead>\n",
       "    <tr style=\"text-align: right;\">\n",
       "      <th></th>\n",
       "      <th>sector</th>\n",
       "      <th>industry</th>\n",
       "      <th>beta_5Y_Monthly</th>\n",
       "      <th>bookValue_book_value_per_share</th>\n",
       "      <th>earningsQuarterlyGrowth_Quarterly_earnings_growth_year-over-year</th>\n",
       "      <th>enterpriseToEbitda</th>\n",
       "      <th>enterpriseToRevenue</th>\n",
       "      <th>enterpriseValue</th>\n",
       "      <th>forwardEps_forward_means_using_forecast_earning_for_next_12_month</th>\n",
       "      <th>forwardPE</th>\n",
       "      <th>...</th>\n",
       "      <th>socialScore</th>\n",
       "      <th>totalEsg</th>\n",
       "      <th>fiftyDayAverage</th>\n",
       "      <th>fiftyTwoWeekHigh</th>\n",
       "      <th>fiftyTwoWeekLow</th>\n",
       "      <th>twoHundredDayAverage</th>\n",
       "      <th>dividendRate</th>\n",
       "      <th>dividendYield</th>\n",
       "      <th>fiveYearAvgDividendYield</th>\n",
       "      <th>payoutRatio</th>\n",
       "    </tr>\n",
       "    <tr>\n",
       "      <th>symbol</th>\n",
       "      <th></th>\n",
       "      <th></th>\n",
       "      <th></th>\n",
       "      <th></th>\n",
       "      <th></th>\n",
       "      <th></th>\n",
       "      <th></th>\n",
       "      <th></th>\n",
       "      <th></th>\n",
       "      <th></th>\n",
       "      <th></th>\n",
       "      <th></th>\n",
       "      <th></th>\n",
       "      <th></th>\n",
       "      <th></th>\n",
       "      <th></th>\n",
       "      <th></th>\n",
       "      <th></th>\n",
       "      <th></th>\n",
       "      <th></th>\n",
       "      <th></th>\n",
       "    </tr>\n",
       "  </thead>\n",
       "  <tbody>\n",
       "    <tr>\n",
       "      <th>AAPL</th>\n",
       "      <td>Technology</td>\n",
       "      <td>Consumer Electronics</td>\n",
       "      <td>1.289436</td>\n",
       "      <td>3.953</td>\n",
       "      <td>-0.034</td>\n",
       "      <td>23.807</td>\n",
       "      <td>7.653</td>\n",
       "      <td>2947037790208</td>\n",
       "      <td>6.56</td>\n",
       "      <td>28.355183</td>\n",
       "      <td>...</td>\n",
       "      <td>6.86</td>\n",
       "      <td>16.68</td>\n",
       "      <td>171.5526</td>\n",
       "      <td>186.515</td>\n",
       "      <td>124.17</td>\n",
       "      <td>152.9297</td>\n",
       "      <td>0.96</td>\n",
       "      <td>0.0052</td>\n",
       "      <td>0.9</td>\n",
       "      <td>0.1559</td>\n",
       "    </tr>\n",
       "  </tbody>\n",
       "</table>\n",
       "<p>1 rows × 56 columns</p>\n",
       "</div>"
      ],
      "text/plain": [
       "            sector              industry  beta_5Y_Monthly  \\\n",
       "symbol                                                      \n",
       "AAPL    Technology  Consumer Electronics         1.289436   \n",
       "\n",
       "        bookValue_book_value_per_share  \\\n",
       "symbol                                   \n",
       "AAPL                             3.953   \n",
       "\n",
       "        earningsQuarterlyGrowth_Quarterly_earnings_growth_year-over-year  \\\n",
       "symbol                                                                     \n",
       "AAPL                                               -0.034                  \n",
       "\n",
       "        enterpriseToEbitda  enterpriseToRevenue  enterpriseValue  \\\n",
       "symbol                                                             \n",
       "AAPL                23.807                7.653    2947037790208   \n",
       "\n",
       "        forwardEps_forward_means_using_forecast_earning_for_next_12_month  \\\n",
       "symbol                                                                      \n",
       "AAPL                                                 6.56                   \n",
       "\n",
       "        forwardPE  ...  socialScore  totalEsg  fiftyDayAverage  \\\n",
       "symbol             ...                                           \n",
       "AAPL    28.355183  ...         6.86     16.68         171.5526   \n",
       "\n",
       "        fiftyTwoWeekHigh  fiftyTwoWeekLow  twoHundredDayAverage  dividendRate  \\\n",
       "symbol                                                                          \n",
       "AAPL             186.515           124.17              152.9297          0.96   \n",
       "\n",
       "        dividendYield  fiveYearAvgDividendYield  payoutRatio  \n",
       "symbol                                                        \n",
       "AAPL           0.0052                       0.9       0.1559  \n",
       "\n",
       "[1 rows x 56 columns]"
      ]
     },
     "execution_count": 159,
     "metadata": {},
     "output_type": "execute_result"
    }
   ],
   "source": [
    "# Convert the flattened dictionary into a DataFrame\n",
    "df = pd.DataFrame([dict_concat])\n",
    "\n",
    "df.set_index('symbol', inplace=True)\n",
    "\n",
    "new_col_order = ['sector', 'industry'] + [col for col in df.columns if col not in ['sector', 'industry']]\n",
    "df = df[new_col_order]\n",
    "\n",
    "\n",
    "# Display the DataFrame\n",
    "df"
   ]
  },
  {
   "cell_type": "code",
   "execution_count": null,
   "metadata": {},
   "outputs": [],
   "source": []
  }
 ],
 "metadata": {
  "kernelspec": {
   "display_name": "Python 3",
   "language": "python",
   "name": "python3"
  },
  "language_info": {
   "codemirror_mode": {
    "name": "ipython",
    "version": 3
   },
   "file_extension": ".py",
   "mimetype": "text/x-python",
   "name": "python",
   "nbconvert_exporter": "python",
   "pygments_lexer": "ipython3",
   "version": "3.9.16"
  },
  "orig_nbformat": 4
 },
 "nbformat": 4,
 "nbformat_minor": 2
}
