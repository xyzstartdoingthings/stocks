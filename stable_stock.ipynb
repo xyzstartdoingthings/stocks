{
 "cells": [
  {
   "cell_type": "code",
   "execution_count": 123,
   "metadata": {},
   "outputs": [],
   "source": [
    "\n",
    "from pathlib import Path\n",
    "import pandas as pd\n",
    "import os"
   ]
  },
  {
   "cell_type": "code",
   "execution_count": 124,
   "metadata": {},
   "outputs": [
    {
     "data": {
      "text/html": [
       "<div>\n",
       "<style scoped>\n",
       "    .dataframe tbody tr th:only-of-type {\n",
       "        vertical-align: middle;\n",
       "    }\n",
       "\n",
       "    .dataframe tbody tr th {\n",
       "        vertical-align: top;\n",
       "    }\n",
       "\n",
       "    .dataframe thead th {\n",
       "        text-align: right;\n",
       "    }\n",
       "</style>\n",
       "<table border=\"1\" class=\"dataframe\">\n",
       "  <thead>\n",
       "    <tr style=\"text-align: right;\">\n",
       "      <th></th>\n",
       "      <th>Symbol</th>\n",
       "      <th>Sector</th>\n",
       "      <th>Industry</th>\n",
       "    </tr>\n",
       "  </thead>\n",
       "  <tbody>\n",
       "    <tr>\n",
       "      <th>0</th>\n",
       "      <td>A</td>\n",
       "      <td>Healthcare</td>\n",
       "      <td>Diagnostics &amp; Research</td>\n",
       "    </tr>\n",
       "    <tr>\n",
       "      <th>1</th>\n",
       "      <td>AAL</td>\n",
       "      <td>Industrials</td>\n",
       "      <td>Airlines</td>\n",
       "    </tr>\n",
       "    <tr>\n",
       "      <th>2</th>\n",
       "      <td>AAN</td>\n",
       "      <td>Industrials</td>\n",
       "      <td>Rental &amp; Leasing Services</td>\n",
       "    </tr>\n",
       "    <tr>\n",
       "      <th>3</th>\n",
       "      <td>AAON</td>\n",
       "      <td>Industrials</td>\n",
       "      <td>Building Products &amp; Equipment</td>\n",
       "    </tr>\n",
       "    <tr>\n",
       "      <th>4</th>\n",
       "      <td>AAP</td>\n",
       "      <td>Consumer Cyclical</td>\n",
       "      <td>Specialty Retail</td>\n",
       "    </tr>\n",
       "    <tr>\n",
       "      <th>...</th>\n",
       "      <td>...</td>\n",
       "      <td>...</td>\n",
       "      <td>...</td>\n",
       "    </tr>\n",
       "    <tr>\n",
       "      <th>2112</th>\n",
       "      <td>ZEUS</td>\n",
       "      <td>Basic Materials</td>\n",
       "      <td>Steel</td>\n",
       "    </tr>\n",
       "    <tr>\n",
       "      <th>2113</th>\n",
       "      <td>ZION</td>\n",
       "      <td>Financial Services</td>\n",
       "      <td>Banks—Regional</td>\n",
       "    </tr>\n",
       "    <tr>\n",
       "      <th>2114</th>\n",
       "      <td>ZIONP</td>\n",
       "      <td>Financial Services</td>\n",
       "      <td>Banks—Regional</td>\n",
       "    </tr>\n",
       "    <tr>\n",
       "      <th>2115</th>\n",
       "      <td>ZUMZ</td>\n",
       "      <td>Consumer Cyclical</td>\n",
       "      <td>Apparel Retail</td>\n",
       "    </tr>\n",
       "    <tr>\n",
       "      <th>2116</th>\n",
       "      <td>ZYXI</td>\n",
       "      <td>Healthcare</td>\n",
       "      <td>Medical Distribution</td>\n",
       "    </tr>\n",
       "  </tbody>\n",
       "</table>\n",
       "<p>2117 rows × 3 columns</p>\n",
       "</div>"
      ],
      "text/plain": [
       "     Symbol              Sector                       Industry\n",
       "0         A          Healthcare         Diagnostics & Research\n",
       "1       AAL         Industrials                       Airlines\n",
       "2       AAN         Industrials      Rental & Leasing Services\n",
       "3      AAON         Industrials  Building Products & Equipment\n",
       "4       AAP   Consumer Cyclical               Specialty Retail\n",
       "...     ...                 ...                            ...\n",
       "2112   ZEUS     Basic Materials                          Steel\n",
       "2113   ZION  Financial Services                 Banks—Regional\n",
       "2114  ZIONP  Financial Services                 Banks—Regional\n",
       "2115   ZUMZ   Consumer Cyclical                 Apparel Retail\n",
       "2116   ZYXI          Healthcare           Medical Distribution\n",
       "\n",
       "[2117 rows x 3 columns]"
      ]
     },
     "execution_count": 124,
     "metadata": {},
     "output_type": "execute_result"
    }
   ],
   "source": [
    "data_path = Path(os.getcwd()) # perhaps set to external harddrive to accomodate large amount of data\n",
    "path = data_path / 'stock price data'\n",
    "ticker_all = pd.read_csv(path/\"finer_data_complete_stock.csv\") \n",
    "stock = pd.read_csv(path/\"company stock price daily\"/'AAPL.csv') \n",
    "stock_bench = pd.read_csv(path/\"benchmark price daily\"/'^GSPC.csv')\n",
    "ticker_all"
   ]
  },
  {
   "cell_type": "code",
   "execution_count": 125,
   "metadata": {},
   "outputs": [],
   "source": [
    "def volatility(stock, stock_bench, method=\"std\", period=None):\n",
    "    # Ensure the 'date' column is in datetime format\n",
    "    df = stock.copy()\n",
    "    df['date'] = pd.to_datetime(df['date'])\n",
    "    # Set 'date' as the index\n",
    "    df.set_index('date', inplace=True)\n",
    "\n",
    "    df_bench = stock_bench.copy()\n",
    "    df_bench['date'] = pd.to_datetime(df_bench['date'])\n",
    "\n",
    "    # Use the entire dataset length as the period if not specified\n",
    "    if period is None:\n",
    "        period = len(df)\n",
    "    \n",
    "    if method == \"std\":\n",
    "        # Calculate the rolling standard deviation, using a minimum of 1 to avoid division by zero\n",
    "        rolling_stats = df['changePercent'].rolling(window=period).std()\n",
    "    if method == \"range\":\n",
    "        rolling_stats = (df['close'].rolling(window=period, min_periods=1).max() - df['close'].rolling(window=period).min())/df['close'].rolling(window=period).mean()\n",
    "    if method == \"beta\":\n",
    "        # Calculate covariance between stock and market returns\n",
    "        covariance = pd.concat([df[\"changePercent\"].reset_index(drop=True).rename(\"Stock return\"), df_bench[\"changePercent\"].rename(\"Market return\")], axis=1).rolling(window=30).cov(pairwise=True).unstack()[\"Stock return\", \"Market return\"]\n",
    "        # Calculate variance of market returns\n",
    "        market_variance = df_bench['changePercent'].rolling(window=period).var()\n",
    "        rolling_stats = covariance / market_variance\n",
    "    return rolling_stats.mean()"
   ]
  },
  {
   "cell_type": "code",
   "execution_count": 126,
   "metadata": {},
   "outputs": [],
   "source": [
    "time_start = \"2014-01-01\"\n",
    "time_end = \"2016-01-01\"\n",
    "# ['Healthcare', 'Industrials', 'Consumer Cyclical', 'Technology','Financial Services', 'Real Estate', 'Basic Materials','Consumer Defensive', 'Energy', 'Utilities','Communication Services']\n",
    "Sectors = ['Industrials', 'Consumer Cyclical', 'Technology','Financial Services', 'Real Estate', 'Basic Materials', 'Consumer Defensive', 'Communication Services']\n",
    "method = \"std\"\n",
    "period = 30\n",
    "ticker_sector = ticker_all[ticker_all[\"Sector\"].isin(Sectors)]\n",
    "ticker_dict = {}\n",
    "top = 10\n",
    "for ticker in ticker_sector[\"Symbol\"].unique():\n",
    "    ticker_file = ticker+\".csv\"\n",
    "    stock = pd.read_csv(path/\"company stock price daily\"/ticker_file)\n",
    "    stock_time = stock[(stock[\"date\"]>=time_start)&(stock[\"date\"]<=time_end)].sort_values(by=\"date\").reset_index(drop=True)\n",
    "    stock_bench_time = stock_bench[(stock_bench[\"date\"]>=time_start)&(stock_bench[\"date\"]<=time_end)].sort_values(by=\"date\").reset_index(drop=True)\n",
    "    ticker_dict[ticker] = volatility(stock_time, stock_bench_time, method=\"std\", period=30)\n",
    "top_ticker = [item[0] for item in sorted(ticker_dict.items(), key=lambda x: x[1])[:top]]"
   ]
  },
  {
   "cell_type": "code",
   "execution_count": 122,
   "metadata": {},
   "outputs": [
    {
     "data": {
      "text/plain": [
       "['DDT', 'BKT', 'ELA', 'VKQ', 'BTA', 'CHT', 'EVV', 'LEO', 'HSBC', 'DSM']"
      ]
     },
     "execution_count": 122,
     "metadata": {},
     "output_type": "execute_result"
    }
   ],
   "source": [
    "top_ticker"
   ]
  },
  {
   "cell_type": "code",
   "execution_count": null,
   "metadata": {},
   "outputs": [],
   "source": []
  }
 ],
 "metadata": {
  "kernelspec": {
   "display_name": "Python 3",
   "language": "python",
   "name": "python3"
  },
  "language_info": {
   "codemirror_mode": {
    "name": "ipython",
    "version": 3
   },
   "file_extension": ".py",
   "mimetype": "text/x-python",
   "name": "python",
   "nbconvert_exporter": "python",
   "pygments_lexer": "ipython3",
   "version": "3.10.11"
  }
 },
 "nbformat": 4,
 "nbformat_minor": 2
}
